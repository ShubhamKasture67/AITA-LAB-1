{
  "nbformat": 4,
  "nbformat_minor": 0,
  "metadata": {
    "colab": {
      "provenance": [],
      "authorship_tag": "ABX9TyMm+Wbms5YmnNfWXRKaY9nx",
      "include_colab_link": true
    },
    "kernelspec": {
      "name": "python3",
      "display_name": "Python 3"
    },
    "language_info": {
      "name": "python"
    }
  },
  "cells": [
    {
      "cell_type": "markdown",
      "metadata": {
        "id": "view-in-github",
        "colab_type": "text"
      },
      "source": [
        "<a href=\"https://colab.research.google.com/github/ShubhamKasture67/AITA-LAB-1/blob/main/Untitled4.ipynb\" target=\"_parent\"><img src=\"https://colab.research.google.com/assets/colab-badge.svg\" alt=\"Open In Colab\"/></a>"
      ]
    },
    {
      "cell_type": "code",
      "source": [
        "# prompt: use the resnet50 model to pr-trained on imagenet as a feature exractor to classify images in the cifar-10 dataset into 100 classes.\n",
        "\n",
        "import tensorflow as tf\n",
        "from tensorflow import keras\n",
        "from tensorflow.keras.applications import ResNet50\n",
        "from tensorflow.keras.layers import Dense, Flatten\n",
        "from tensorflow.keras.models import Model\n",
        "from tensorflow.keras.datasets import cifar10\n",
        "from tensorflow.keras.utils import to_categorical\n",
        "\n",
        "# Load the CIFAR-10 dataset\n",
        "(x_train, y_train), (x_test, y_test) = cifar10.load_data()\n",
        "\n",
        "# Preprocess the data\n",
        "x_train = x_train.astype('float32') / 255.0\n",
        "x_test = x_test.astype('float32') / 255.0\n",
        "\n",
        "# One-hot encode the labels (for 100 classes, even though CIFAR-10 only has 10)\n",
        "num_classes = 100\n",
        "y_train = to_categorical(y_train, num_classes)\n",
        "y_test = to_categorical(y_test, num_classes)\n",
        "\n",
        "\n",
        "# Load the pre-trained ResNet50 model (excluding the top classification layer)\n",
        "base_model = ResNet50(weights='imagenet', include_top=False, input_shape=(32, 32, 3)) #Input shape adjusted for CIFAR-10\n",
        "\n",
        "# Add new classification layers\n",
        "x = base_model.output\n",
        "x = Flatten()(x)\n",
        "x = Dense(1024, activation='relu')(x) #Added a dense layer\n",
        "predictions = Dense(num_classes, activation='softmax')(x)\n",
        "\n",
        "# Create the new model\n",
        "model = Model(inputs=base_model.input, outputs=predictions)\n",
        "\n",
        "# Freeze the layers of the base model (optional, but often helps with fine-tuning)\n",
        "for layer in base_model.layers:\n",
        "    layer.trainable = False\n",
        "\n",
        "# Compile the model\n",
        "model.compile(optimizer='adam', loss='categorical_crossentropy', metrics=['accuracy'])\n",
        "\n",
        "# Train the model (adjust epochs and batch_size as needed)\n",
        "model.fit(x_train, y_train, epochs=10, batch_size=32, validation_data=(x_test, y_test))\n",
        "\n",
        "\n",
        "# Evaluate the model\n",
        "loss, accuracy = model.evaluate(x_test, y_test, verbose=0)\n",
        "print('Test Loss:', loss)\n",
        "print('Test Accuracy:', accuracy)"
      ],
      "metadata": {
        "colab": {
          "base_uri": "https://localhost:8080/"
        },
        "id": "-DvbBIJ-Of0p",
        "outputId": "0b1925d1-d171-4881-f5fe-c2661b62b3d0"
      },
      "execution_count": 3,
      "outputs": [
        {
          "output_type": "stream",
          "name": "stdout",
          "text": [
            "Epoch 1/10\n",
            "\u001b[1m1563/1563\u001b[0m \u001b[32m━━━━━━━━━━━━━━━━━━━━\u001b[0m\u001b[37m\u001b[0m \u001b[1m287s\u001b[0m 179ms/step - accuracy: 0.2189 - loss: 2.2101 - val_accuracy: 0.2931 - val_loss: 1.8949\n",
            "Epoch 2/10\n",
            "\u001b[1m1563/1563\u001b[0m \u001b[32m━━━━━━━━━━━━━━━━━━━━\u001b[0m\u001b[37m\u001b[0m \u001b[1m318s\u001b[0m 176ms/step - accuracy: 0.2983 - loss: 1.9082 - val_accuracy: 0.3462 - val_loss: 1.8000\n",
            "Epoch 3/10\n",
            "\u001b[1m1563/1563\u001b[0m \u001b[32m━━━━━━━━━━━━━━━━━━━━\u001b[0m\u001b[37m\u001b[0m \u001b[1m322s\u001b[0m 177ms/step - accuracy: 0.3304 - loss: 1.8354 - val_accuracy: 0.3660 - val_loss: 1.7753\n",
            "Epoch 4/10\n",
            "\u001b[1m1563/1563\u001b[0m \u001b[32m━━━━━━━━━━━━━━━━━━━━\u001b[0m\u001b[37m\u001b[0m \u001b[1m274s\u001b[0m 176ms/step - accuracy: 0.3455 - loss: 1.7998 - val_accuracy: 0.3602 - val_loss: 1.7740\n",
            "Epoch 5/10\n",
            "\u001b[1m1563/1563\u001b[0m \u001b[32m━━━━━━━━━━━━━━━━━━━━\u001b[0m\u001b[37m\u001b[0m \u001b[1m274s\u001b[0m 175ms/step - accuracy: 0.3632 - loss: 1.7669 - val_accuracy: 0.3577 - val_loss: 1.7734\n",
            "Epoch 6/10\n",
            "\u001b[1m1563/1563\u001b[0m \u001b[32m━━━━━━━━━━━━━━━━━━━━\u001b[0m\u001b[37m\u001b[0m \u001b[1m320s\u001b[0m 175ms/step - accuracy: 0.3705 - loss: 1.7453 - val_accuracy: 0.3643 - val_loss: 1.7618\n",
            "Epoch 7/10\n",
            "\u001b[1m1563/1563\u001b[0m \u001b[32m━━━━━━━━━━━━━━━━━━━━\u001b[0m\u001b[37m\u001b[0m \u001b[1m274s\u001b[0m 175ms/step - accuracy: 0.3722 - loss: 1.7365 - val_accuracy: 0.3765 - val_loss: 1.7228\n",
            "Epoch 8/10\n",
            "\u001b[1m1563/1563\u001b[0m \u001b[32m━━━━━━━━━━━━━━━━━━━━\u001b[0m\u001b[37m\u001b[0m \u001b[1m324s\u001b[0m 176ms/step - accuracy: 0.3826 - loss: 1.7171 - val_accuracy: 0.3920 - val_loss: 1.6962\n",
            "Epoch 9/10\n",
            "\u001b[1m1563/1563\u001b[0m \u001b[32m━━━━━━━━━━━━━━━━━━━━\u001b[0m\u001b[37m\u001b[0m \u001b[1m320s\u001b[0m 175ms/step - accuracy: 0.3908 - loss: 1.7074 - val_accuracy: 0.4004 - val_loss: 1.6890\n",
            "Epoch 10/10\n",
            "\u001b[1m1563/1563\u001b[0m \u001b[32m━━━━━━━━━━━━━━━━━━━━\u001b[0m\u001b[37m\u001b[0m \u001b[1m327s\u001b[0m 178ms/step - accuracy: 0.3873 - loss: 1.6950 - val_accuracy: 0.3680 - val_loss: 1.7339\n",
            "Test Loss: 1.7339086532592773\n",
            "Test Accuracy: 0.36800000071525574\n"
          ]
        }
      ]
    },
    {
      "cell_type": "markdown",
      "source": [
        "So the Conclusion is that in this practical we have used the Resnet50 and imagenet .The dataset that we have used is the CIFAR-10 instead of CIFAR-100.In this we have done the 10 Epochs.After the Result of the 10 epchos are mentioned above.After all 10 epochs the final result is Test Loss: 1.7339086532592773 AND\n",
        "Test Accuracy: 0.36800000071525574."
      ],
      "metadata": {
        "id": "9BOHoreueGYL"
      }
    }
  ]
}